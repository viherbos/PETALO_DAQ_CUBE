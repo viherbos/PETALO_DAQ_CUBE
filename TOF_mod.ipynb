{
 "cells": [
  {
   "cell_type": "code",
   "execution_count": 26,
   "metadata": {
    "collapsed": true
   },
   "outputs": [],
   "source": [
    "import numpy as np\n",
    "import os\n",
    "import pandas as pd\n",
    "import matplotlib.pyplot as plt\n"
   ]
  },
  {
   "cell_type": "code",
   "execution_count": 22,
   "metadata": {
    "collapsed": true
   },
   "outputs": [],
   "source": [
    "def read_MC(path, file_name, n_sipms, first_sipm, time_bin, event):\n",
    "    os.chdir(path)\n",
    "    tof_wave = np.array(pd.read_hdf(file_name,key='MC/tof_waveforms'), dtype='int')\n",
    "    extents  = np.array(pd.read_hdf(file_name,key='MC/extents'), dtype='int')\n",
    "    \n",
    "    high_limit_tof = extents[event,2]\n",
    "    if event == 0:\n",
    "        low_limit_tof  = 0\n",
    "    else:\n",
    "        low_limit_tof  = extents[event-1,2]\n",
    "    \n",
    "    event_tof  = tof_wave[low_limit_tof:high_limit_tof+1,:]\n",
    "    event_tof[:,0] = event_tof[:,0]*-1-first_sipm\n",
    "    # SiPM  |  Timebin  |  Charge   \n",
    "    \n",
    "    conv_table = np.zeros((np.max(event_tof[:,1])+1,n_sipms))\n",
    "    \n",
    "    for i in range(event_tof.shape[0]):\n",
    "        conv_table[event_tof[i,1],event_tof[i,0]] = event_tof[i,2]\n",
    "        \n",
    "    \n",
    "    return conv_table\n",
    "    "
   ]
  },
  {
   "cell_type": "code",
   "execution_count": 23,
   "metadata": {},
   "outputs": [],
   "source": [
    "tof = read_MC(\"/mnt/715c6d30-57c4-4aed-a982-551291d8f848/NEUTRINOS/\",\"full_ring_iradius165mm_z140mm_depth3cm_pitch7mm.000.pet.h5\",3500,1000,5,0)"
   ]
  },
  {
   "cell_type": "code",
   "execution_count": 38,
   "metadata": {},
   "outputs": [
    {
     "data": {
      "text/plain": [
       "<Figure size 432x288 with 0 Axes>"
      ]
     },
     "metadata": {},
     "output_type": "display_data"
    },
    {
     "data": {
      "image/png": "[encoded data removed]",
      "text/plain": [
       "<Figure size 432x288 with 1 Axes>"
      ]
     },
     "metadata": {},
     "output_type": "display_data"
    }
   ],
   "source": [
    "fig = plt.figure()\n",
    "plt.plot(tof[:,1443])\n",
    "plt.show()"
   ]
  },
  {
   "cell_type": "code",
   "execution_count": 16,
   "metadata": {},
   "outputs": [],
   "source": [
    "tof_sipm_sort = np.argsort(tof[:,0])"
   ]
  },
  {
   "cell_type": "code",
   "execution_count": 17,
   "metadata": {
    "collapsed": true
   },
   "outputs": [],
   "source": [
    "tof_sipm_sort = tof[tof_sipm_sort,:]"
   ]
  },
  {
   "cell_type": "code",
   "execution_count": 18,
   "metadata": {},
   "outputs": [
    {
     "data": {
      "text/plain": [
       "array([[1034, 5384],\n",
       "       [1034, 2426],\n",
       "       [1035,  839],\n",
       "       ..., \n",
       "       [4474, 1643],\n",
       "       [4474,  909],\n",
       "       [4479,  706]])"
      ]
     },
     "execution_count": 18,
     "metadata": {},
     "output_type": "execute_result"
    }
   ],
   "source": [
    "tof_sipm_sort"
   ]
  },
  {
   "cell_type": "code",
   "execution_count": null,
   "metadata": {
    "collapsed": true
   },
   "outputs": [],
   "source": []
  }
 ],
 "metadata": {
  "kernelspec": {
   "display_name": "Python 2",
   "language": "python",
   "name": "python2"
  },
  "language_info": {
   "codemirror_mode": {
    "name": "ipython",
    "version": 2
   },
   "file_extension": ".py",
   "mimetype": "text/x-python",
   "name": "python",
   "nbconvert_exporter": "python",
   "pygments_lexer": "ipython2",
   "version": "2.7.14"
  }
 },
 "nbformat": 4,
 "nbformat_minor": 2
}
