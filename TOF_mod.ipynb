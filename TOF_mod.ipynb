{
 "cells": [
  {
   "cell_type": "code",
   "execution_count": 2,
   "metadata": {},
   "outputs": [],
   "source": [
    "import numpy as np\n",
    "import os\n",
    "import pandas as pd\n",
    "import matplotlib.pyplot as plt\n",
    "from SimLib import config_sim as conf\n",
    "from SimLib import sipm_mapping as DAQ\n",
    "import sys\n",
    "#sys.path.append(\"/home/viherbos/GITHUB/PETALO_analysis\")\n",
    "import fit_library\n",
    "import scipy.signal as sc\n",
    "import itertools as it\n",
    "import multiprocessing as mp\n",
    "import time\n",
    "#import TOF_library as T_lib\n",
    "%matplotlib nbagg\n",
    "%reload_ext autoreload\n",
    "%autoreload 2   \n"
   ]
  },
  {
   "cell_type": "markdown",
   "metadata": {},
   "source": [
    "# Convolution Test"
   ]
  },
  {
   "cell_type": "markdown",
   "metadata": {},
   "source": [
    "#timestamp, accu_table, conv_table = TDC.TDC(25,-1,1)   # Event, Time Window for TDC, TE_TDC\n",
    "#print(\"%d\" % np.min(timestamp[np.argwhere(timestamp>0)]))\n",
    "fig = plt.figure()\n",
    "plt.plot(TDC.conv_table[:,2729])\n",
    "np.argmax(TDC.part_acc)\n",
    "\n"
   ]
  },
  {
   "cell_type": "markdown",
   "metadata": {
    "collapsed": true
   },
   "source": [
    "time = 20000\n",
    "first_SiPM = 1000\n",
    "phi_o = np.zeros(Matrix_O.shape)\n",
    "# Data Matrix Composition\n",
    "for i in range(Matrix_O.shape[0]):\n",
    "    for j in range(Matrix_O.shape[1]):\n",
    "        phi_o[i,j] = accu_table[time,int(Matrix_O[i,j])]"
   ]
  },
  {
   "cell_type": "markdown",
   "metadata": {
    "scrolled": true
   },
   "source": [
    "fig = plt.figure(figsize=(10,1.5))\n",
    "plt.imshow(phi_o)\n",
    "plt.show()\n",
    "print(np.min(timestamp[np.argwhere(timestamp>0)])*5)"
   ]
  },
  {
   "cell_type": "markdown",
   "metadata": {},
   "source": [
    "# Energy Computation Test"
   ]
  },
  {
   "cell_type": "markdown",
   "metadata": {},
   "source": [
    "Energy = T_lib.ENERGY_compute(\"/volumedisk0/home/viherbos/DAQ_data/\",\"petit_ring_tof_high_stat.pet.h5\",SIPM,Matrix_O)\n",
    "Energy(100)"
   ]
  },
  {
   "cell_type": "markdown",
   "metadata": {
    "collapsed": true
   },
   "source": [
    "# Energy Computation with Multiprocessing"
   ]
  },
  {
   "cell_type": "markdown",
   "metadata": {
    "collapsed": true
   },
   "source": [
    "# Multiprocessing\n",
    "Energy = T_lib.ENERGY_compute(\"/volumedisk0/home/viherbos/DAQ_data/\",\"petit_ring_tof_high_stat.pet.h5\",SIPM,Matrix_O)   \n",
    "\n",
    "def ENER_comp_wrapper(args):   \n",
    "    return Energy(args)\n",
    "\n",
    "pool_size = mp.cpu_count() \n",
    "pool = mp.Pool(processes=12)\n",
    "#pool_output = pool.map(DAQ_map, [i for i in L1_Slice])\n",
    "pool_output = pool.map(ENER_comp_wrapper, [i for i in range(0,25000)])\n",
    "pool.close()\n",
    "pool.join()\n"
   ]
  },
  {
   "cell_type": "markdown",
   "metadata": {},
   "source": [
    "\n",
    "Energy_v = np.array([pool_output[i] for i in range(len(pool_output))]).reshape(-1)\n",
    "\n",
    "fig2 = plt.figure()\n",
    "fit = fit_library.gauss_fit()\n",
    "data = Energy_v[Energy_v>100]\n",
    "fit(data,50)\n",
    "fit.plot(axis = fig2.add_subplot(111),\n",
    "     title = \"Energy Spectrum (Singles)\",\n",
    "     xlabel = \"Photons\",\n",
    "     ylabel = \"Hits\",\n",
    "     res=False, \n",
    "     fit=True)"
   ]
  },
  {
   "cell_type": "code",
   "execution_count": 3,
   "metadata": {},
   "outputs": [],
   "source": [
    "TOF_data = np.array(pd.read_hdf('/home/viherbos/DAQ_DATA/NEUTRINOS/PETit-ring/7mm_pitch/TOF_15_2.h5',\n",
    "                       key='TOF_data',dtype='float'))\n",
    "TE_range = np.array(pd.read_hdf('/home/viherbos/DAQ_DATA/NEUTRINOS/PETit-ring/7mm_pitch/TOF_15_2.h5',\n",
    "                       key='TE_range',dtype='float'))\n"
   ]
  },
  {
   "cell_type": "code",
   "execution_count": 4,
   "metadata": {},
   "outputs": [],
   "source": [
    "\n",
    "time_bin = 5\n",
    "\n",
    "def plot_tof(i,fig,TOF_data=TOF_data,TE_range=TE_range,time_bin=time_bin,fit_margins=[15,30],esq=420): \n",
    "    data = TOF_data[i,:].reshape(-1) \n",
    "    data = np.abs(time_bin*data[(data>-700)*(data<700)])\n",
    "    sign = [np.random.choice((-1, 1)) for i in range(len(data))]\n",
    "    data = data*sign\n",
    "    fit(data,fit_margins)\n",
    "    fit.plot(axis = fig.add_subplot(esq+i+1),\n",
    "         title = \"Time of Flight TE = \"+str(TE_range[i])+\"pe\",\n",
    "         xlabel = \"Time Stamp in picoseconds\",\n",
    "         ylabel = \"Hits\",\n",
    "         res=False, \n",
    "         fit=True)\n",
    "    print(\"Valid Events = %d\" % (data.shape))\n",
    "    print(fit.bins)\n",
    "\n",
    "#plot_tof(0)    \n",
    "#plot_tof(1)\n",
    "#plot_tof(2)\n"
   ]
  },
  {
   "cell_type": "code",
   "execution_count": 7,
   "metadata": {},
   "outputs": [
    {
     "name": "stdout",
     "output_type": "stream",
     "text": [
      "Valid Events = 1160\n",
      "16\n"
     ]
    },
    {
     "data": {
      "image/png": "[encoded data removed]",
      "text/plain": [
       "<Figure size 504x504 with 1 Axes>"
      ]
     },
     "metadata": {},
     "output_type": "display_data"
    }
   ],
   "source": [
    "fit = fit_library.gauss_fit()\n",
    "fig1 = plt.figure(figsize=(7,7)) \n",
    "time_bin = 5\n",
    "\n",
    "plot_tof(1,fig1,fit_margins=[15,30],esq=109)\n",
    "plt.show()"
   ]
  },
  {
   "cell_type": "markdown",
   "metadata": {},
   "source": [
    "fit = fit_library.gauss_fit()\n",
    "fig1 = plt.figure(figsize=(10,10)) \n",
    "time_bin = 5\n",
    "\n",
    "i = 0\n",
    "data = TOF_data[0,:].reshape(-1) \n",
    "data = time_bin*data[(data>-500)*(data<500)]\n",
    "fit(data,[10,25])\n",
    "fit.plot(axis = fig1.add_subplot(420+i+1),\n",
    "     title = \"Time of Flight TE = \"+str(TE_range[i])+\"pe\",\n",
    "     xlabel = \"Time Stamp in picoseconds\",\n",
    "     ylabel = \"Hits\",\n",
    "     res=False, \n",
    "     fit=True)\n",
    "print(\"Valid Events = %d\" % (data.shape))\n",
    "\n",
    "i = 1\n",
    "data = TOF_data[i,:].reshape(-1) \n",
    "data = time_bin*data[(data>-500)*(data<500)]\n",
    "fit(data,[10,25])\n",
    "fit.plot(axis = fig1.add_subplot(420+i+1),\n",
    "     title = \"Time of Flight TE = \"+str(TE_range[i])+\"pe\",\n",
    "     xlabel = \"Time Stamp in picoseconds\",\n",
    "     ylabel = \"Hits\",\n",
    "     res=False, \n",
    "     fit=True)\n",
    "\n",
    "print(\"Valid Events = %d\" % (data.shape))\n",
    "\n",
    "i = 2\n",
    "data = TOF_data[i,:].reshape(-1) \n",
    "data = time_bin*data[(data>-500)*(data<500)]\n",
    "fit(data,[10,25])\n",
    "fit.plot(axis = fig1.add_subplot(420+i+1),\n",
    "     title = \"Time of Flight TE = \"+str(TE_range[i])+\"pe\",\n",
    "     xlabel = \"Time Stamp in picoseconds\",\n",
    "     ylabel = \"Hits\",\n",
    "     res=False, \n",
    "     fit=True)\n",
    "print(\"Valid Events = %d\" % (data.shape))\n",
    "\n",
    "i = 3\n",
    "data = TOF_data[i,:].reshape(-1) \n",
    "data = time_bin*data[(data>-500)*(data<500)]\n",
    "fit(data,[10,25])\n",
    "fit.plot(axis = fig1.add_subplot(420+i+1),\n",
    "     title = \"Time of Flight TE = \"+str(TE_range[i])+\"pe\",\n",
    "     xlabel = \"Time Stamp in picoseconds\",\n",
    "     ylabel = \"Hits\",\n",
    "     res=False, \n",
    "     fit=True)\n",
    "print(\"Valid Events = %d\" % (data.shape))\n",
    "\n",
    "i = 4\n",
    "data = TOF_data[i,:].reshape(-1) \n",
    "data = time_bin*data[(data>-600)*(data<600)]\n",
    "fit(data,[10,25])\n",
    "fit.plot(axis = fig1.add_subplot(420+i+1),\n",
    "     title = \"Time of Flight TE = \"+str(TE_range[i])+\"pe\",\n",
    "     xlabel = \"Time Stamp in picoseconds\",\n",
    "     ylabel = \"Hits\",\n",
    "     res=False, \n",
    "     fit=True)\n",
    "print(\"Valid Events = %d\" % (data.shape))\n",
    "\n",
    "i = 5\n",
    "data = TOF_data[i,:].reshape(-1) \n",
    "data = time_bin*data[(data>-600)*(data<600)]\n",
    "fit(data,'auto')\n",
    "fit.plot(axis = fig1.add_subplot(420+i+1),\n",
    "     title = \"Time of Flight TE = \"+str(TE_range[i])+\"pe\",\n",
    "     xlabel = \"Time Stamp in picoseconds\",\n",
    "     ylabel = \"Hits\",\n",
    "     res=False, \n",
    "     fit=True)\n",
    "print(\"Valid Events = %d\" % (data.shape))\n",
    "\n",
    "i = 6\n",
    "data = TOF_data[i,:].reshape(-1) \n",
    "data = time_bin*data[(data>-600)*(data<600)]\n",
    "fit(data,'auto')\n",
    "fit.plot(axis = fig1.add_subplot(420+i+1),\n",
    "     title = \"Time of Flight TE = \"+str(TE_range[i])+\"pe\",\n",
    "     xlabel = \"Time Stamp in picoseconds\",\n",
    "     ylabel = \"Hits\",\n",
    "     res=False, \n",
    "     fit=True)\n",
    "print(\"Valid Events = %d\" % (data.shape))\n",
    "\n",
    "i = 7\n",
    "data = TOF_data[i,:].reshape(-1) \n",
    "data = time_bin*data[(data>-600)*(data<600)]\n",
    "fit(data,'auto')\n",
    "fit.plot(axis = fig1.add_subplot(420+i+1),\n",
    "     title = \"Time of Flight TE = \"+str(TE_range[i])+\"pe\",\n",
    "     xlabel = \"Time Stamp in picoseconds\",\n",
    "     ylabel = \"Hits\",\n",
    "     res=False, \n",
    "     fit=True)\n",
    "\n",
    "plt.tight_layout()\n",
    "print(\"Valid Events = %d\" % (data.shape))"
   ]
  },
  {
   "cell_type": "code",
   "execution_count": null,
   "metadata": {},
   "outputs": [],
   "source": []
  },
  {
   "cell_type": "code",
   "execution_count": null,
   "metadata": {},
   "outputs": [],
   "source": []
  }
 ],
 "metadata": {
  "anaconda-cloud": {},
  "kernelspec": {
   "display_name": "Python 3",
   "language": "python",
   "name": "python3"
  },
  "language_info": {
   "codemirror_mode": {
    "name": "ipython",
    "version": 3
   },
   "file_extension": ".py",
   "mimetype": "text/x-python",
   "name": "python",
   "nbconvert_exporter": "python",
   "pygments_lexer": "ipython3",
   "version": "3.6.5"
  }
 },
 "nbformat": 4,
 "nbformat_minor": 2
}
